{
 "cells": [
  {
   "cell_type": "code",
   "execution_count": 6,
   "metadata": {},
   "outputs": [],
   "source": [
    "# res_path = \"../e2efold_data/results/\"\n"
   ]
  },
  {
   "cell_type": "code",
   "execution_count": null,
   "metadata": {},
   "outputs": [],
   "source": [
    "import bio"
   ]
  },
  {
   "cell_type": "code",
   "execution_count": 11,
   "metadata": {},
   "outputs": [
    {
     "ename": "ValueError",
     "evalue": "Cannot load file containing pickled data when allow_pickle=False",
     "output_type": "error",
     "traceback": [
      "\u001b[0;31m---------------------------------------------------------------------------\u001b[0m",
      "\u001b[0;31mValueError\u001b[0m                                Traceback (most recent call last)",
      "\u001b[1;32m/home/eric/RNA-FM/recover_experiments/secondary_structure.ipynb Cell 2\u001b[0m line \u001b[0;36m6\n\u001b[1;32m      <a href='vscode-notebook-cell://ssh-remote%2B193.122.147.133/home/eric/RNA-FM/recover_experiments/secondary_structure.ipynb#W1sdnNjb2RlLXJlbW90ZQ%3D%3D?line=3'>4</a>\u001b[0m file_path \u001b[39m=\u001b[39m \u001b[39m\"\u001b[39m\u001b[39m/home/eric/RNA-FM/recover_experiments/e2efold_data/results/pred_ct/5s_Acanthamoeba-castellanii-1.ct\u001b[39m\u001b[39m\"\u001b[39m\n\u001b[1;32m      <a href='vscode-notebook-cell://ssh-remote%2B193.122.147.133/home/eric/RNA-FM/recover_experiments/secondary_structure.ipynb#W1sdnNjb2RlLXJlbW90ZQ%3D%3D?line=4'>5</a>\u001b[0m \u001b[39m# Load the data from the .npy file\u001b[39;00m\n\u001b[0;32m----> <a href='vscode-notebook-cell://ssh-remote%2B193.122.147.133/home/eric/RNA-FM/recover_experiments/secondary_structure.ipynb#W1sdnNjb2RlLXJlbW90ZQ%3D%3D?line=5'>6</a>\u001b[0m loaded_data \u001b[39m=\u001b[39m np\u001b[39m.\u001b[39;49mload(file_path)\n\u001b[1;32m      <a href='vscode-notebook-cell://ssh-remote%2B193.122.147.133/home/eric/RNA-FM/recover_experiments/secondary_structure.ipynb#W1sdnNjb2RlLXJlbW90ZQ%3D%3D?line=6'>7</a>\u001b[0m np\u001b[39m.\u001b[39msize(loaded_data, \u001b[39m0\u001b[39m), np\u001b[39m.\u001b[39msize(loaded_data, \u001b[39m1\u001b[39m)\n\u001b[1;32m      <a href='vscode-notebook-cell://ssh-remote%2B193.122.147.133/home/eric/RNA-FM/recover_experiments/secondary_structure.ipynb#W1sdnNjb2RlLXJlbW90ZQ%3D%3D?line=7'>8</a>\u001b[0m loaded_data[:\u001b[39m10\u001b[39m][:\u001b[39m10\u001b[39m]\n",
      "File \u001b[0;32m~/RNA-FM-ENV/lib/python3.9/site-packages/numpy/lib/npyio.py:435\u001b[0m, in \u001b[0;36mload\u001b[0;34m(file, mmap_mode, allow_pickle, fix_imports, encoding)\u001b[0m\n\u001b[1;32m    432\u001b[0m \u001b[39melse\u001b[39;00m:\n\u001b[1;32m    433\u001b[0m     \u001b[39m# Try a pickle\u001b[39;00m\n\u001b[1;32m    434\u001b[0m     \u001b[39mif\u001b[39;00m \u001b[39mnot\u001b[39;00m allow_pickle:\n\u001b[0;32m--> 435\u001b[0m         \u001b[39mraise\u001b[39;00m \u001b[39mValueError\u001b[39;00m(\u001b[39m\"\u001b[39m\u001b[39mCannot load file containing pickled data \u001b[39m\u001b[39m\"\u001b[39m\n\u001b[1;32m    436\u001b[0m                          \u001b[39m\"\u001b[39m\u001b[39mwhen allow_pickle=False\u001b[39m\u001b[39m\"\u001b[39m)\n\u001b[1;32m    437\u001b[0m     \u001b[39mtry\u001b[39;00m:\n\u001b[1;32m    438\u001b[0m         \u001b[39mreturn\u001b[39;00m pickle\u001b[39m.\u001b[39mload(fid, \u001b[39m*\u001b[39m\u001b[39m*\u001b[39mpickle_kwargs)\n",
      "\u001b[0;31mValueError\u001b[0m: Cannot load file containing pickled data when allow_pickle=False"
     ]
    }
   ],
   "source": [
    "import numpy as np\n",
    "\n",
    "# Assuming your .npy file is named 'example.npy'\n",
    "file_path = \"/home/eric/RNA-FM/recover_experiments/e2efold_data/results/pred_ct/5s_Acanthamoeba-castellanii-1.ct\"\n",
    "# Load the data from the .npy file\n",
    "loaded_data = np.load(file_path)\n",
    "np.size(loaded_data, 0), np.size(loaded_data, 1)\n",
    "loaded_data[:10][:10]\n",
    "# Now 'loaded_data' contains the contents of the .npy file as a NumPy array\n",
    "# print(loaded_data)"
   ]
  },
  {
   "cell_type": "code",
   "execution_count": 21,
   "metadata": {},
   "outputs": [],
   "source": [
    "import collections\n",
    "import _pickle as cPickle\n",
    "\n",
    "RNA_SS_data = collections.namedtuple('RNA_SS_data', \n",
    "    'seq ss_label length name pairs')\n",
    "\n",
    "file_path = \"/home/eric/RNA-FM/recover_experiments/e2efold_data/archiveII_all/all_1800.pickle\"\n",
    "\n",
    "with open(file_path, 'rb') as file:\n",
    "    loaded_data = cPickle.load(file)\n",
    "\n",
    "    "
   ]
  },
  {
   "cell_type": "code",
   "execution_count": 20,
   "metadata": {},
   "outputs": [
    {
     "data": {
      "text/plain": [
       "55"
      ]
     },
     "execution_count": 20,
     "metadata": {},
     "output_type": "execute_result"
    }
   ],
   "source": [
    "len(loaded_data)"
   ]
  },
  {
   "cell_type": "code",
   "execution_count": 17,
   "metadata": {},
   "outputs": [],
   "source": [
    "import collections\n",
    "import _pickle as cPickle\n",
    "\n",
    "RNA_SS_data = collections.namedtuple('RNA_SS_data', \n",
    "    'seq ss_label length name pairs')\n",
    "\n",
    "file_path = \"/home/eric/RNA-FM/recover_experiments/e2efold_data/archiveII_all/all_1800.pickle\"\n",
    "\n",
    "with open(file_path, 'rb') as file:\n",
    "    loaded_data = cPickle.load(file)"
   ]
  },
  {
   "cell_type": "code",
   "execution_count": 18,
   "metadata": {},
   "outputs": [],
   "source": [
    "seq_path = \"/home/eric/RNA-FM/recover_experiments/e2efold_data/archiveII_all/archiveII.seq\"\n",
    "with open(seq_path, 'rb') as file:\n",
    "    for line in file:\n",
    "        # Assuming each line contains a single RNA sequence\n",
    "        if len(line) == 0:\n",
    "            print(11111111111111)"
   ]
  },
  {
   "cell_type": "code",
   "execution_count": 27,
   "metadata": {},
   "outputs": [],
   "source": [
    "def convert_seq_to_fasta(seq_file_path, fasta_file_path):\n",
    "    line_name = None\n",
    "    line_seq = None\n",
    "    with open(seq_file_path, 'r') as seq_file, open(fasta_file_path, 'w') as fasta_file:\n",
    "        for i, line in enumerate(seq_file, start=1):\n",
    "            # Assuming each line contains a single RNA sequence\n",
    "            if line_name == None:\n",
    "                line = line.replace(\".ct\", \"\")\n",
    "                line_name = line\n",
    "                continue\n",
    "            if line_seq == None:\n",
    "                line_seq = line\n",
    "                fasta_file.write(f\">{line_name}{line_seq}\")\n",
    "                \n",
    "                line_name, line_seq = None, None\n",
    "            # Write the header and sequence to the FASTA file\n",
    "            # fasta_file.write(f\"{header}\\n{sequence}\\n\")\n",
    "\n",
    "# Example usage:\n",
    "seq_file_path = '/home/eric/RNA-FM/recover_experiments/e2efold_data/archiveII_all/archiveII.seq'\n",
    "fasta_file_path = '/home/eric/RNA-FM/recover_experiments/e2efold_data/archiveII_all/archiveII.fasta'\n",
    "convert_seq_to_fasta(seq_file_path, fasta_file_path)"
   ]
  },
  {
   "cell_type": "code",
   "execution_count": null,
   "metadata": {},
   "outputs": [],
   "source": []
  },
  {
   "cell_type": "code",
   "execution_count": 89,
   "metadata": {},
   "outputs": [],
   "source": [
    "# def compute_precision_at_l5(self, sequence_lengths, prediction, labels):\n",
    "#     with torch.no_grad():\n",
    "#         # valid_mask = labels != self._ignore_index\n",
    "#         # seqpos = torch.arange(valid_mask.size(1), device=sequence_lengths.device)\n",
    "#         # x_ind, y_ind = torch.meshgrid(seqpos, seqpos)\n",
    "#         # valid_mask &= ((y_ind - x_ind) >= 6).unsqueeze(0)\n",
    "#         # probs = F.softmax(prediction, 3)[:, :, :, 1]\n",
    "#         # valid_mask = valid_mask.type_as(probs)\n",
    "#         correct = 0\n",
    "#         total = 0\n",
    "#         for length, prob, label, mask in zip(sequence_lengths, probs, labels, valid_mask):\n",
    "#             masked_prob = (prob * mask).view(-1)\n",
    "#             most_likely = masked_prob.topk(length // 5, sorted=False)\n",
    "#             selected = label.view(-1).gather(0, most_likely.indices)\n",
    "#             correct += selected.sum().float()\n",
    "#             total += selected.numel()\n",
    "#         return correct / total\n",
    "\n",
    "import torch\n",
    "import os\n",
    "import numpy as np\n",
    "def get_prob_from_results(folder_path: str):\n",
    "\n",
    "    res_dict = dict()\n",
    "\n",
    "    for filename in os.listdir(folder_path):\n",
    "        # Construct the full file path\n",
    "        file_path = os.path.join(folder_path, filename)\n",
    "        \n",
    "        # Check if it is a file (not a subfolder)\n",
    "        if os.path.isfile(file_path):\n",
    "            rna_name = filename.replace(\".npy\", \"\")\n",
    "            data = np.load(file_path)\n",
    "            data = torch.from_numpy(data)\n",
    "            res_dict[rna_name] = data\n",
    "    return res_dict\n",
    "\n",
    "\n",
    "\n",
    "import collections\n",
    "import _pickle as cPickle\n",
    "\n",
    "def get_pair_from_npy(file_paths: list):\n",
    "\n",
    "    res_dict = dict()\n",
    "\n",
    "    for file_path in file_paths:\n",
    "        with open(file_path, 'rb') as file:\n",
    "            loaded_data = cPickle.load(file)\n",
    "            for data in loaded_data:\n",
    "                res_dict[data.name.replace(\".ct\", \"\")] = data\n",
    "    return res_dict"
   ]
  },
  {
   "cell_type": "code",
   "execution_count": 117,
   "metadata": {},
   "outputs": [],
   "source": [
    "probs = get_prob_from_results(\"/home/eric/RNA-FM/recover_experiments/e2efold_data/results/r-ss\")"
   ]
  },
  {
   "cell_type": "code",
   "execution_count": 118,
   "metadata": {},
   "outputs": [],
   "source": [
    "labels = get_pair_from_npy([\"/home/eric/RNA-FM/recover_experiments/e2efold_data/archiveII_all/all_600.pickle\"])"
   ]
  },
  {
   "cell_type": "code",
   "execution_count": 123,
   "metadata": {},
   "outputs": [
    {
     "data": {
      "text/plain": [
       "3911"
      ]
     },
     "execution_count": 123,
     "metadata": {},
     "output_type": "execute_result"
    }
   ],
   "source": [
    "len(labels)"
   ]
  },
  {
   "cell_type": "code",
   "execution_count": 119,
   "metadata": {},
   "outputs": [],
   "source": [
    "import torch\n",
    "\n",
    "def get_pair_using_top5(prob, label):\n",
    "    prob = prob.cuda()\n",
    "    seqpos = torch.arange(label.length, device='cuda')\n",
    "    x_ind, y_ind = torch.meshgrid(seqpos, seqpos)\n",
    "    valid_mask = ((y_ind - x_ind) >= 6).cuda()\n",
    "    masked_prob = (prob * valid_mask).view(-1)\n",
    "    most_likely = masked_prob.topk(label.length // 5, sorted=False)\n",
    "\n",
    "    pairs = label.pairs\n",
    "    label = torch.zeros((label.length, label.length)).cuda()\n",
    "\n",
    "    for pair in pairs:\n",
    "        label[pair[0], pair[1]] = 1\n",
    "        label[pair[1], pair[0]] = 1\n",
    "    selected = label.view(-1).gather(0, most_likely.indices)\n",
    "    return selected\n"
   ]
  },
  {
   "cell_type": "code",
   "execution_count": 120,
   "metadata": {},
   "outputs": [],
   "source": [
    "res = []\n",
    "for name in list(labels.keys()):\n",
    "    if name not in probs:\n",
    "        continue\n",
    "    prob = probs[name]\n",
    "    label = labels[name]\n",
    "    selected = get_pair_using_top5(prob, label).tolist()\n",
    "    # correct += selected.sum().float()\n",
    "    # total += selected.numel()\n",
    "    # print(selected)\n",
    "\n",
    "    res = res + selected\n"
   ]
  },
  {
   "cell_type": "code",
   "execution_count": 127,
   "metadata": {},
   "outputs": [
    {
     "data": {
      "text/plain": [
       "(0.8440694430325416, 0.730207742969376)"
      ]
     },
     "execution_count": 127,
     "metadata": {},
     "output_type": "execute_result"
    }
   ],
   "source": [
    "from sklearn.metrics import f1_score, average_precision_score, recall_score\n",
    "f1_score(res, [1 for _ in range(len(res))] ), average_precision_score(res, [1 for _ in range(len(res))]), recall_score(res, [1 for _ in range(len(res))], average='macro')"
   ]
  },
  {
   "cell_type": "code",
   "execution_count": 122,
   "metadata": {},
   "outputs": [
    {
     "data": {
      "text/plain": [
       "tensor(0.7138, device='cuda:0')"
      ]
     },
     "execution_count": 122,
     "metadata": {},
     "output_type": "execute_result"
    }
   ],
   "source": [
    "correct/total"
   ]
  },
  {
   "cell_type": "code",
   "execution_count": null,
   "metadata": {},
   "outputs": [],
   "source": [
    "import numpy as np"
   ]
  }
 ],
 "metadata": {
  "kernelspec": {
   "display_name": "Python 3",
   "language": "python",
   "name": "python3"
  },
  "language_info": {
   "codemirror_mode": {
    "name": "ipython",
    "version": 3
   },
   "file_extension": ".py",
   "mimetype": "text/x-python",
   "name": "python",
   "nbconvert_exporter": "python",
   "pygments_lexer": "ipython3",
   "version": "3.9.0"
  }
 },
 "nbformat": 4,
 "nbformat_minor": 2
}
