{
 "cells": [
  {
   "cell_type": "code",
   "execution_count": 3,
   "metadata": {},
   "outputs": [],
   "source": [
    "res_path = \"../redevelop/results/\"\n"
   ]
  },
  {
   "cell_type": "code",
   "execution_count": 11,
   "metadata": {},
   "outputs": [
    {
     "data": {
      "text/plain": [
       "array([[3.4453534e-02, 1.5086234e-02, 6.7995526e-05, ..., 9.7753409e-06,\n",
       "        9.3868297e-01, 3.8131569e-02],\n",
       "       [1.5086234e-02, 1.6165829e-04, 8.4231369e-06, ..., 9.9971598e-01,\n",
       "        3.4326650e-02, 3.1219563e-03],\n",
       "       [6.7995526e-05, 8.4231369e-06, 1.7792143e-02, ..., 7.4049808e-02,\n",
       "        1.3719220e-04, 2.8615343e-04],\n",
       "       ...,\n",
       "       [7.0390144e-10, 3.9365632e-11, 2.7068700e-10, ..., 1.6434312e-11,\n",
       "        8.3226009e-11, 8.1223925e-09],\n",
       "       [4.6181831e-10, 2.5160210e-10, 1.5710748e-10, ..., 4.2608628e-09,\n",
       "        1.1028773e-09, 1.4262177e-08],\n",
       "       [4.3365445e-10, 5.0779696e-09, 2.7805507e-09, ..., 4.2125397e-09,\n",
       "        1.8166273e-10, 6.4849287e-10]], dtype=float32)"
      ]
     },
     "execution_count": 11,
     "metadata": {},
     "output_type": "execute_result"
    }
   ],
   "source": [
    "import numpy as np\n",
    "\n",
    "# Assuming your .npy file is named 'example.npy'\n",
    "file_path = res_path + \"r-ss/RF00001_AACY021680068_1_650-535.npy\"\n",
    "# Load the data from the .npy file\n",
    "loaded_data = np.load(file_path)\n",
    "np.size(loaded_data, 0), np.size(loaded_data, 1)\n",
    "loaded_data[:10][:10]\n",
    "# Now 'loaded_data' contains the contents of the .npy file as a NumPy array\n",
    "# print(loaded_data)"
   ]
  },
  {
   "cell_type": "code",
   "execution_count": 29,
   "metadata": {},
   "outputs": [],
   "source": [
    "import collections\n",
    "import _pickle as cPickle\n",
    "\n",
    "RNA_SS_data = collections.namedtuple('RNA_SS_data', \n",
    "    'seq ss_label length name pairs')\n",
    "\n",
    "file_path = \"/home/eric/RNA-FM/recover_experiments/e2efold_data/archiveII_all/all_600.pickle\"\n",
    "\n",
    "with open(file_path, 'rb') as file:\n",
    "    loaded_data = cPickle.load(file)\n",
    "\n",
    "    "
   ]
  },
  {
   "cell_type": "code",
   "execution_count": 30,
   "metadata": {},
   "outputs": [
    {
     "data": {
      "text/plain": [
       "RNA_SS_data(seq=array([[0, 0, 0, 1],\n",
       "       [1, 0, 0, 0],\n",
       "       [0, 0, 0, 1],\n",
       "       ...,\n",
       "       [0, 0, 0, 0],\n",
       "       [0, 0, 0, 0],\n",
       "       [0, 0, 0, 0]]), ss_label=array([[1, 0, 0],\n",
       "       [1, 0, 0],\n",
       "       [1, 0, 0],\n",
       "       ...,\n",
       "       [0, 0, 0],\n",
       "       [0, 0, 0],\n",
       "       [0, 0, 0]]), length=301, name='RNaseP_CPB80.ct', pairs=[[5, 299], [6, 298], [7, 297], [9, 296], [10, 295], [11, 294], [12, 293], [13, 292], [14, 185], [15, 184], [16, 183], [17, 182], [21, 218], [22, 217], [23, 216], [24, 215], [26, 181], [27, 180], [28, 179], [29, 178], [30, 177], [31, 45], [32, 44], [33, 43], [34, 42], [35, 41], [41, 35], [42, 34], [43, 33], [44, 32], [45, 31], [46, 58], [47, 56], [48, 55], [49, 54], [54, 49], [55, 48], [56, 47], [58, 46], [59, 176], [60, 175], [64, 174], [65, 173], [66, 170], [67, 169], [81, 115], [82, 114], [83, 111], [84, 110], [85, 109], [88, 108], [89, 107], [90, 106], [91, 104], [92, 103], [93, 102], [94, 101], [95, 100], [100, 95], [101, 94], [102, 93], [103, 92], [104, 91], [106, 90], [107, 89], [108, 88], [109, 85], [110, 84], [111, 83], [114, 82], [115, 81], [123, 141], [124, 140], [125, 139], [126, 138], [127, 137], [128, 136], [136, 128], [137, 127], [138, 126], [139, 125], [140, 124], [141, 123], [142, 165], [143, 163], [144, 162], [145, 161], [146, 160], [147, 159], [148, 157], [149, 156], [150, 155], [155, 150], [156, 149], [157, 148], [159, 147], [160, 146], [161, 145], [162, 144], [163, 143], [165, 142], [169, 67], [170, 66], [173, 65], [174, 64], [175, 60], [176, 59], [177, 30], [178, 29], [179, 28], [180, 27], [181, 26], [182, 17], [183, 16], [184, 15], [185, 14], [189, 238], [190, 237], [191, 236], [192, 235], [199, 229], [200, 228], [201, 227], [202, 226], [204, 224], [209, 223], [210, 222], [211, 221], [212, 220], [213, 219], [215, 24], [216, 23], [217, 22], [218, 21], [219, 213], [220, 212], [221, 211], [222, 210], [223, 209], [224, 204], [226, 202], [227, 201], [228, 200], [229, 199], [235, 192], [236, 191], [237, 190], [238, 189], [245, 264], [246, 263], [247, 262], [248, 261], [249, 260], [250, 259], [251, 258], [252, 257], [257, 252], [258, 251], [259, 250], [260, 249], [261, 248], [262, 247], [263, 246], [264, 245], [292, 13], [293, 12], [294, 11], [295, 10], [296, 9], [297, 7], [298, 6], [299, 5]])"
      ]
     },
     "execution_count": 30,
     "metadata": {},
     "output_type": "execute_result"
    }
   ],
   "source": [
    "loaded_data[0]"
   ]
  },
  {
   "cell_type": "code",
   "execution_count": 19,
   "metadata": {},
   "outputs": [],
   "source": [
    "seq_path = \"/home/eric/RNA-FM/recover_experiments/e2efold_data/archiveII_all/archiveII.seq\"\n",
    "with open(seq_path, 'rb') as file:\n",
    "    for line in file:\n",
    "        # Assuming each line contains a single RNA sequence\n",
    "        if len(line) == 0:\n",
    "            print(11111111111111)"
   ]
  },
  {
   "cell_type": "code",
   "execution_count": 27,
   "metadata": {},
   "outputs": [],
   "source": [
    "def convert_seq_to_fasta(seq_file_path, fasta_file_path):\n",
    "    line_name = None\n",
    "    line_seq = None\n",
    "    with open(seq_file_path, 'r') as seq_file, open(fasta_file_path, 'w') as fasta_file:\n",
    "        for i, line in enumerate(seq_file, start=1):\n",
    "            # Assuming each line contains a single RNA sequence\n",
    "            if line_name == None:\n",
    "                line = line.replace(\".ct\", \"\")\n",
    "                line_name = line\n",
    "                continue\n",
    "            if line_seq == None:\n",
    "                line_seq = line\n",
    "                fasta_file.write(f\">{line_name}{line_seq}\")\n",
    "                \n",
    "                line_name, line_seq = None, None\n",
    "            # Write the header and sequence to the FASTA file\n",
    "            # fasta_file.write(f\"{header}\\n{sequence}\\n\")\n",
    "\n",
    "# Example usage:\n",
    "seq_file_path = '/home/eric/RNA-FM/recover_experiments/e2efold_data/archiveII_all/archiveII.seq'\n",
    "fasta_file_path = '/home/eric/RNA-FM/recover_experiments/e2efold_data/archiveII_all/archiveII.fasta'\n",
    "convert_seq_to_fasta(seq_file_path, fasta_file_path)"
   ]
  },
  {
   "cell_type": "code",
   "execution_count": null,
   "metadata": {},
   "outputs": [],
   "source": []
  },
  {
   "cell_type": "code",
   "execution_count": 89,
   "metadata": {},
   "outputs": [],
   "source": [
    "# def compute_precision_at_l5(self, sequence_lengths, prediction, labels):\n",
    "#     with torch.no_grad():\n",
    "#         # valid_mask = labels != self._ignore_index\n",
    "#         # seqpos = torch.arange(valid_mask.size(1), device=sequence_lengths.device)\n",
    "#         # x_ind, y_ind = torch.meshgrid(seqpos, seqpos)\n",
    "#         # valid_mask &= ((y_ind - x_ind) >= 6).unsqueeze(0)\n",
    "#         # probs = F.softmax(prediction, 3)[:, :, :, 1]\n",
    "#         # valid_mask = valid_mask.type_as(probs)\n",
    "#         correct = 0\n",
    "#         total = 0\n",
    "#         for length, prob, label, mask in zip(sequence_lengths, probs, labels, valid_mask):\n",
    "#             masked_prob = (prob * mask).view(-1)\n",
    "#             most_likely = masked_prob.topk(length // 5, sorted=False)\n",
    "#             selected = label.view(-1).gather(0, most_likely.indices)\n",
    "#             correct += selected.sum().float()\n",
    "#             total += selected.numel()\n",
    "#         return correct / total\n",
    "\n",
    "import torch\n",
    "import os\n",
    "import numpy as np\n",
    "def get_prob_from_results(folder_path: str):\n",
    "\n",
    "    res_dict = dict()\n",
    "\n",
    "    for filename in os.listdir(folder_path):\n",
    "        # Construct the full file path\n",
    "        file_path = os.path.join(folder_path, filename)\n",
    "        \n",
    "        # Check if it is a file (not a subfolder)\n",
    "        if os.path.isfile(file_path):\n",
    "            rna_name = filename.replace(\".npy\", \"\")\n",
    "            data = np.load(file_path)\n",
    "            data = torch.from_numpy(data)\n",
    "            res_dict[rna_name] = data\n",
    "    return res_dict\n",
    "\n",
    "\n",
    "\n",
    "import collections\n",
    "import _pickle as cPickle\n",
    "\n",
    "def get_pair_from_npy(file_paths: list):\n",
    "\n",
    "    res_dict = dict()\n",
    "\n",
    "    for file_path in file_paths:\n",
    "        with open(file_path, 'rb') as file:\n",
    "            loaded_data = cPickle.load(file)\n",
    "            for data in loaded_data:\n",
    "                res_dict[data.name.replace(\".ct\", \"\")] = data\n",
    "    return res_dict"
   ]
  },
  {
   "cell_type": "code",
   "execution_count": 117,
   "metadata": {},
   "outputs": [],
   "source": [
    "probs = get_prob_from_results(\"/home/eric/RNA-FM/recover_experiments/e2efold_data/results/r-ss\")"
   ]
  },
  {
   "cell_type": "code",
   "execution_count": 118,
   "metadata": {},
   "outputs": [],
   "source": [
    "labels = get_pair_from_npy([\"/home/eric/RNA-FM/recover_experiments/e2efold_data/archiveII_all/all_600.pickle\"])"
   ]
  },
  {
   "cell_type": "code",
   "execution_count": 123,
   "metadata": {},
   "outputs": [
    {
     "data": {
      "text/plain": [
       "3911"
      ]
     },
     "execution_count": 123,
     "metadata": {},
     "output_type": "execute_result"
    }
   ],
   "source": [
    "len(labels)"
   ]
  },
  {
   "cell_type": "code",
   "execution_count": 119,
   "metadata": {},
   "outputs": [],
   "source": [
    "import torch\n",
    "\n",
    "def get_pair_using_top5(prob, label):\n",
    "    prob = prob.cuda()\n",
    "    seqpos = torch.arange(label.length, device='cuda')\n",
    "    x_ind, y_ind = torch.meshgrid(seqpos, seqpos)\n",
    "    valid_mask = ((y_ind - x_ind) >= 6).cuda()\n",
    "    masked_prob = (prob * valid_mask).view(-1)\n",
    "    most_likely = masked_prob.topk(label.length // 5, sorted=False)\n",
    "\n",
    "    pairs = label.pairs\n",
    "    label = torch.zeros((label.length, label.length)).cuda()\n",
    "\n",
    "    for pair in pairs:\n",
    "        label[pair[0], pair[1]] = 1\n",
    "        label[pair[1], pair[0]] = 1\n",
    "    selected = label.view(-1).gather(0, most_likely.indices)\n",
    "    return selected\n"
   ]
  },
  {
   "cell_type": "code",
   "execution_count": 120,
   "metadata": {},
   "outputs": [],
   "source": [
    "res = []\n",
    "for name in list(labels.keys()):\n",
    "    if name not in probs:\n",
    "        continue\n",
    "    prob = probs[name]\n",
    "    label = labels[name]\n",
    "    selected = get_pair_using_top5(prob, label).tolist()\n",
    "    # correct += selected.sum().float()\n",
    "    # total += selected.numel()\n",
    "    # print(selected)\n",
    "\n",
    "    res = res + selected\n"
   ]
  },
  {
   "cell_type": "code",
   "execution_count": 127,
   "metadata": {},
   "outputs": [
    {
     "data": {
      "text/plain": [
       "(0.8440694430325416, 0.730207742969376)"
      ]
     },
     "execution_count": 127,
     "metadata": {},
     "output_type": "execute_result"
    }
   ],
   "source": [
    "from sklearn.metrics import f1_score, average_precision_score, recall_score\n",
    "f1_score(res, [1 for _ in range(len(res))] ), average_precision_score(res, [1 for _ in range(len(res))]), recall_score(res, [1 for _ in range(len(res))], average='macro')"
   ]
  },
  {
   "cell_type": "code",
   "execution_count": 122,
   "metadata": {},
   "outputs": [
    {
     "data": {
      "text/plain": [
       "tensor(0.7138, device='cuda:0')"
      ]
     },
     "execution_count": 122,
     "metadata": {},
     "output_type": "execute_result"
    }
   ],
   "source": [
    "correct/total"
   ]
  }
 ],
 "metadata": {
  "kernelspec": {
   "display_name": "RNA-FM-ENV",
   "language": "python",
   "name": "rna-fm-env"
  },
  "language_info": {
   "codemirror_mode": {
    "name": "ipython",
    "version": 3
   },
   "file_extension": ".py",
   "mimetype": "text/x-python",
   "name": "python",
   "nbconvert_exporter": "python",
   "pygments_lexer": "ipython3",
   "version": "3.9.0"
  }
 },
 "nbformat": 4,
 "nbformat_minor": 2
}
